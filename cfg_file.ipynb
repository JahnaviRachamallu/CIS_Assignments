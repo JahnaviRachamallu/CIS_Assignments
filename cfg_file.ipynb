{
 "cells": [
  {
   "cell_type": "code",
   "execution_count": 6,
   "id": "fad987e8",
   "metadata": {},
   "outputs": [
    {
     "name": "stdout",
     "output_type": "stream",
     "text": [
      "CSV files saved in the output folder: C:\\Users\\Anusha\\output\n"
     ]
    }
   ],
   "source": [
    "import os\n",
    "import json\n",
    "import pandas as pd\n",
    "\n",
    "# Specify the path to save the config file\n",
    "config_file_path = 'C:\\\\Users\\\\Anusha\\\\Desktop\\\\files.cfg'\n",
    "\n",
    "# Write the config data to the JSON file\n",
    "with open(config_file_path, 'r') as json_file:\n",
    "    config_data = json.load(json_file)\n",
    "\n",
    "# Get the file names from the config data\n",
    "file1 = config_data.get('file1')\n",
    "file2 = config_data.get('file2')\n",
    "\n",
    "#files = list(config_data.values())\n",
    "# Recursive function to search for the files\n",
    "folder_path = 'C:\\\\Users\\\\Anusha\\\\CSV Files'\n",
    "\n",
    "# Get the list of file names in the folder\n",
    "file_names = os.listdir(folder_path)\n",
    "\n",
    "# Match the file names with the config values\n",
    "matched_files = []\n",
    "for file_name in file_names:\n",
    "    if file_name == file1 or file_name == file2:\n",
    "        matched_files.append(file_name)\n",
    "\n",
    "# Print the matched files\n",
    "output_folder = 'C:\\\\Users\\\\Anusha\\\\output'\n",
    "os.makedirs(output_folder, exist_ok=True)\n",
    "\n",
    "# Load the contents of the matched CSV files into data frames and store them as separate CSV files\n",
    "for matched_file in matched_files:\n",
    "    file_path = os.path.join(folder_path, matched_file)\n",
    "    output_path = os.path.join(output_folder, matched_file)\n",
    "    df = pd.read_csv(file_path)  # Load CSV file into data frame\n",
    "    df.to_csv(output_path, index=False)  # Save data frame as a new CSV file\n",
    "\n",
    "print(\"CSV files saved in the output folder:\", output_folder)"
   ]
  },
  {
   "cell_type": "code",
   "execution_count": null,
   "id": "5772bed6",
   "metadata": {},
   "outputs": [],
   "source": []
  },
  {
   "cell_type": "code",
   "execution_count": null,
   "id": "cf7676cc",
   "metadata": {},
   "outputs": [],
   "source": []
  }
 ],
 "metadata": {
  "kernelspec": {
   "display_name": "Python 3 (ipykernel)",
   "language": "python",
   "name": "python3"
  },
  "language_info": {
   "codemirror_mode": {
    "name": "ipython",
    "version": 3
   },
   "file_extension": ".py",
   "mimetype": "text/x-python",
   "name": "python",
   "nbconvert_exporter": "python",
   "pygments_lexer": "ipython3",
   "version": "3.9.13"
  }
 },
 "nbformat": 4,
 "nbformat_minor": 5
}
